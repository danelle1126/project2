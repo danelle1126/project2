{
 "cells": [
  {
   "cell_type": "code",
   "execution_count": 1,
   "id": "3b3d61ca",
   "metadata": {},
   "outputs": [],
   "source": [
    "import pandas as pd \n",
    "import os "
   ]
  },
  {
   "cell_type": "code",
   "execution_count": null,
   "id": "191b5868",
   "metadata": {},
   "outputs": [],
   "source": [
    "imdb_DF = pd.read_csv('Raw_Data/IMDb movies.csv')\n",
    "tomato_DF = pd.read_csv('Raw_Data/rotten tomato movie reviwe.csv')"
   ]
  }
 ],
 "metadata": {
  "kernelspec": {
   "display_name": "Python 3",
   "language": "python",
   "name": "python3"
  },
  "language_info": {
   "codemirror_mode": {
    "name": "ipython",
    "version": 3
   },
   "file_extension": ".py",
   "mimetype": "text/x-python",
   "name": "python",
   "nbconvert_exporter": "python",
   "pygments_lexer": "ipython3",
   "version": "3.8.8"
  }
 },
 "nbformat": 4,
 "nbformat_minor": 5
}
